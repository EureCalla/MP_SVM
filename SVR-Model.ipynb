{
 "cells": [
  {
   "cell_type": "code",
   "execution_count": null,
   "id": "02f1875e",
   "metadata": {},
   "outputs": [],
   "source": [
    "'''■■■■■■■■■■建立目錄■■■■■■■■■■'''\n",
    "\n",
    "def mkdir(title,path):\n",
    "    from datetime import datetime\n",
    "    \n",
    "    dt = datetime.now().strftime('%Y%m%d')\n",
    "    #判斷目錄是否存在\n",
    "    title = ('\\\\'+title+'_pyplot_'+dt)\n",
    "     #當前目錄\n",
    "    path=path+title\n",
    "    folder = os.path.exists(path)\n",
    "\n",
    "    #判斷結果\n",
    "    if not folder:\n",
    "        #如果不存在，則建立新目錄\n",
    "        os.makedirs(path)\n",
    "    return path"
   ]
  },
  {
   "cell_type": "markdown",
   "id": "aa5b748f",
   "metadata": {},
   "source": [
    "# 支持向量機SVR"
   ]
  },
  {
   "cell_type": "code",
   "execution_count": null,
   "id": "459e9075",
   "metadata": {},
   "outputs": [],
   "source": [
    "import numpy as np\n",
    "import pandas as pd\n",
    "from sklearn.svm import SVR\n",
    "import matplotlib.pyplot as plt\n",
    "import os\n",
    "\n",
    "# 讀取數據\n",
    "data = pd.read_excel('MW80HF-simulationCF#1.xlsx')\n",
    "target='max.CF (gf)'\n",
    "paraX=['H2(um)','腔體長(um)']"
   ]
  },
  {
   "cell_type": "code",
   "execution_count": null,
   "id": "1f523c35",
   "metadata": {},
   "outputs": [],
   "source": [
    "data = data.dropna(subset=[target]) #把沒有完整數據的行刪除\n",
    "data"
   ]
  },
  {
   "cell_type": "code",
   "execution_count": null,
   "id": "6652b4fb",
   "metadata": {},
   "outputs": [],
   "source": []
  },
  {
   "cell_type": "markdown",
   "id": "dcb94195",
   "metadata": {},
   "source": [
    "# 評估回歸模型準確度"
   ]
  },
  {
   "cell_type": "code",
   "execution_count": null,
   "id": "66ecd9dd",
   "metadata": {},
   "outputs": [],
   "source": [
    "title='SVR Test Score'\n",
    "nowdir = os.getcwd()\n",
    "fpath=mkdir(title,nowdir)"
   ]
  },
  {
   "cell_type": "markdown",
   "id": "ad61f2fa",
   "metadata": {},
   "source": [
    "## parameter C"
   ]
  },
  {
   "cell_type": "code",
   "execution_count": null,
   "id": "b894e493",
   "metadata": {},
   "outputs": [],
   "source": [
    "from sklearn.metrics import mean_squared_log_error\n",
    "test_score = pd.DataFrame([],columns=['C','MSE','MAE','MSLE'])\n",
    "#test_score"
   ]
  },
  {
   "cell_type": "code",
   "execution_count": null,
   "id": "0fc6700b",
   "metadata": {},
   "outputs": [],
   "source": [
    "C_list=[100,1000,10000,50000,100000,200000,500000,1000000] #懲罰值\n",
    "#C1=100 #懲罰值\n",
    "kernel=\"poly\" #模型樣式\n",
    "degree=1 #poly的話的擬合項次\n",
    "x = data[paraX].values\n",
    "y = data[target].values\n",
    "\n",
    "for i in range(len(C_list)):\n",
    "    C1=C_list[i]\n",
    "    model_test = SVR(kernel=kernel,degree=degree,C=C1)#,gamma=0.1)  \n",
    "    model_test.fit(x, y)\n",
    "    \n",
    "    y_pred1 = model_test.predict(data[paraX])\n",
    "    mse = np.mean(np.square(y - y_pred1)) #計算MSE\n",
    "    mae = np.mean(np.abs(y - y_pred1)) #計算MAE\n",
    "    msle = mean_squared_log_error(y, y_pred1)# 計算MSLE\n",
    "    #print(\"均方誤差(MSE)：\", mse)\n",
    "    #print(\"平均絕對誤差(MAE)：\", mae)\n",
    "    #print(\"均方對數誤差(MSLE)：\", msle)\n",
    "    test_score=test_score.append({'C':C1,\n",
    "                       'MSE':mse,'MAE':mae,'MSLE':msle,},ignore_index=True)\n",
    "    #C1=C1*10\n",
    "test_score"
   ]
  },
  {
   "cell_type": "code",
   "execution_count": null,
   "id": "9023b3dc",
   "metadata": {},
   "outputs": [],
   "source": [
    "import seaborn as sns\n",
    "from datetime import datetime\n",
    "'''■■■■■■■■■■繪製收斂圖MSE、MAE、MSLE■■■■■■■■■■'''\n",
    "sns.set(style=\"whitegrid\")\n",
    "ax = plt.subplots(figsize=(8, 8))\n",
    "ax = sns.lineplot(data=test_score, x=\"C\", y='MSE', color='g',marker=\"o\",label='MSE')\n",
    "ax = sns.lineplot(data=test_score, x=\"C\", y='MAE', color='b',marker=\"s\",label='MAE')\n",
    "ax = sns.lineplot(data=test_score, x=\"C\", y='MSLE', color='r',marker=\"^\",label='MSLE')\n",
    "\n",
    "t=target+f' test score of C'\n",
    "ax.set_title(t,fontsize=20) #標題\n",
    "dt = datetime.now().strftime('%Y%m%d')\n",
    "tt = t+'_pydata_'+dt+'.jpg' #檔名\n",
    "\n",
    "pathfig = fpath+'\\\\'+tt\n",
    "sfig = ax.get_figure()\n",
    "sfig.savefig(pathfig,  orientation=\"landscape\")\n",
    "sfig.clear()\n",
    "\n",
    "'''■■■■■■■■■■繪製收斂圖MSLE■■■■■■■■■■'''\n",
    "sns.set(style=\"whitegrid\")\n",
    "ax = plt.subplots(figsize=(8, 8))\n",
    "ax = sns.lineplot(data=test_score, x=\"C\", y='MSLE', color='r',marker=\"^\",label='MSLE')\n",
    "\n",
    "t=target+f' MSLE of C'\n",
    "ax.set_title(t,fontsize=20) #標題\n",
    "dt = datetime.now().strftime('%Y%m%d')\n",
    "tt = t+'_pydata_'+dt+'.jpg' #檔名\n",
    "\n",
    "pathfig = fpath+'\\\\'+tt\n",
    "sfig = ax.get_figure()\n",
    "sfig.savefig(pathfig,  orientation=\"landscape\")\n",
    "sfig.clear()"
   ]
  },
  {
   "cell_type": "markdown",
   "id": "21fb5f2e",
   "metadata": {},
   "source": [
    "## 討論Order"
   ]
  },
  {
   "cell_type": "code",
   "execution_count": null,
   "id": "9b63953c",
   "metadata": {},
   "outputs": [],
   "source": [
    "from sklearn.metrics import mean_squared_log_error\n",
    "test_score = pd.DataFrame([],columns=['Order','MSE','MAE','MSLE'])\n"
   ]
  },
  {
   "cell_type": "code",
   "execution_count": null,
   "id": "27794b78",
   "metadata": {},
   "outputs": [],
   "source": [
    "degree_list=[0,1,2,3,4] #懲罰值\n",
    "C1=200000 #懲罰值\n",
    "kernel=\"poly\" #模型樣式\n",
    "#degree=2 #poly的擬合項次\n",
    "x = data[paraX].values\n",
    "y = data[target].values\n",
    "#while C1<=1000000:\n",
    "for i in range(len(degree_list)):\n",
    "    degree=degree_list[i]\n",
    "    model_test = SVR(kernel=kernel,degree=degree,C=C1)#,gamma=0.1)  \n",
    "    model_test.fit(x, y)\n",
    "    \n",
    "    y_pred1 = model_test.predict(data[paraX])\n",
    "    mse = np.mean(np.square(y - y_pred1)) #計算MSE\n",
    "    mae = np.mean(np.abs(y - y_pred1)) #計算MAE\n",
    "    msle = mean_squared_log_error(y, y_pred1)# 計算MSLE\n",
    "    #print(\"均方誤差(MSE)：\", mse)\n",
    "    #print(\"平均絕對誤差(MAE)：\", mae)\n",
    "    #print(\"均方對數誤差(MSLE)：\", msle)\n",
    "    test_score=test_score.append({'Order':degree,\n",
    "                       'MSE':mse,'MAE':mae,'MSLE':msle,},ignore_index=True)\n",
    "    #C1=C1*10\n",
    "test_score"
   ]
  },
  {
   "cell_type": "code",
   "execution_count": null,
   "id": "0abaf184",
   "metadata": {},
   "outputs": [],
   "source": [
    "'''■■■■■■■■■■繪製Degree收斂圖■■■■■■■■■■'''\n",
    "sns.set(style=\"whitegrid\")\n",
    "ax = plt.subplots(figsize=(8, 8))\n",
    "ax = sns.lineplot(data=test_score, x=\"Order\", y='MSE', color='g',marker=\"o\",label='MSE')\n",
    "ax = sns.lineplot(data=test_score, x=\"Order\", y='MAE', color='b',marker=\"s\",label='MAE')\n",
    "ax = sns.lineplot(data=test_score, x=\"Order\", y='MSLE', color='r',marker=\"^\",label='MSLE')\n",
    "\n",
    "t=target+f' test score of poly Order'\n",
    "ax.set_title(t,fontsize=20) #標題\n",
    "dt = datetime.now().strftime('%Y%m%d')\n",
    "tt = t+'_pydata_'+dt+'.jpg' #檔名\n",
    "\n",
    "pathfig = fpath+'\\\\'+tt\n",
    "sfig = ax.get_figure()\n",
    "sfig.savefig(pathfig,  orientation=\"landscape\")\n",
    "sfig.clear()\n",
    "\n",
    "'''■■■■■■■■■■繪製Degree收斂圖MSLE■■■■■■■■■■'''\n",
    "sns.set(style=\"whitegrid\")\n",
    "ax = plt.subplots(figsize=(8, 8))\n",
    "ax = sns.lineplot(data=test_score, x=\"Order\", y='MSLE', color='r',marker=\"^\",label='MSLE')\n",
    "\n",
    "t=target+f' MSLE of poly Order'\n",
    "ax.set_title(t,fontsize=20) #標題\n",
    "dt = datetime.now().strftime('%Y%m%d')\n",
    "tt = t+'_pydata_'+dt+'.jpg' #檔名\n",
    "\n",
    "pathfig = fpath+'\\\\'+tt\n",
    "sfig = ax.get_figure()\n",
    "sfig.savefig(pathfig,  orientation=\"landscape\")\n",
    "sfig.clear()"
   ]
  },
  {
   "cell_type": "markdown",
   "id": "364a11f4",
   "metadata": {},
   "source": [
    "# 選擇模型"
   ]
  },
  {
   "cell_type": "code",
   "execution_count": null,
   "id": "f21919e2",
   "metadata": {},
   "outputs": [],
   "source": [
    "C1=200000 #懲罰值\n",
    "kernel=\"poly\" #模型樣式\n",
    "degree=1 #poly的擬合項次"
   ]
  },
  {
   "cell_type": "code",
   "execution_count": null,
   "id": "ed9440f4",
   "metadata": {},
   "outputs": [],
   "source": [
    "# 建立模型\n",
    "model = SVR(kernel=kernel,degree=degree,C=C1)#,gamma=0.1)\n",
    "#model = SVR(kernel=\"rbf\",degree=2,C=50000)#,gamma=0.1)\n",
    "#model = SVR(kernel=\"linear\",degree=1,C=1000000,gamma=0.1)\n",
    "\n",
    "# 訓練模型\n",
    "x = data[paraX].values\n",
    "#x2 = data['腔體長'].values\n",
    "y = data[target].values\n",
    "model.fit(x, y)\n"
   ]
  },
  {
   "cell_type": "code",
   "execution_count": null,
   "id": "baee0368",
   "metadata": {},
   "outputs": [],
   "source": [
    "#import joblib\n",
    "#joblib.dump(model, 'svr_model.joblib')"
   ]
  },
  {
   "cell_type": "code",
   "execution_count": null,
   "id": "34a2b17e",
   "metadata": {},
   "outputs": [],
   "source": [
    "from sklearn.metrics import mean_squared_log_error\n",
    "y_pred1 = model.predict(data[paraX])\n",
    "mse = np.mean(np.square(y - y_pred1)) #計算MSE\n",
    "mae = np.mean(np.abs(y - y_pred1)) #計算MAE\n",
    "msle = mean_squared_log_error(y, y_pred1)# 計算MSLE\n",
    "print(\"均方誤差(MSE)：\", mse)\n",
    "print(\"平均絕對誤差(MAE)：\", mae)\n",
    "print(\"均方對數誤差(MSLE)：\", msle)\n",
    "print(y)\n",
    "print(y_pred1)"
   ]
  },
  {
   "cell_type": "code",
   "execution_count": null,
   "id": "0bb3e262",
   "metadata": {},
   "outputs": [],
   "source": []
  },
  {
   "cell_type": "code",
   "execution_count": null,
   "id": "53291787",
   "metadata": {},
   "outputs": [],
   "source": [
    "import plotly.graph_objs as go\n",
    "from plotly.offline import iplot\n",
    "\n",
    "# 資料\n",
    "x1 = np.array(data[paraX[0]])\n",
    "y1 = np.array(data[paraX[1]])\n",
    "z1 = np.array(y)\n",
    "z2 = np.array(y_pred1)\n",
    "\n",
    "# 設定散點圖的資料\n",
    "scatter_data1 = go.Scatter3d(x=x1,y=y1,z=z1,\n",
    "                            mode='markers',\n",
    "                            marker=dict(size=5,color='blue'),\n",
    "                            name='experiment data')\n",
    "# 設定散點圖的資料\n",
    "scatter_data2 = go.Scatter3d(x=x1,y=y1,z=z2,\n",
    "                            mode='markers',\n",
    "                            marker=dict(size=5,color='deepskyblue'),\n",
    "                            name='predict point')        \n",
    "\n",
    "\n",
    "# 設定圖形佈局\n",
    "layout = go.Layout(\n",
    "    scene=dict(xaxis=dict(title=paraX[0],gridcolor='rgb(0,0,0)'),\n",
    "               yaxis=dict(title=paraX[1],gridcolor='rgb(0,0,0)'),\n",
    "               zaxis=dict(title=target,gridcolor='rgb(0,0,0)')),\n",
    "    margin=dict(l=0, r=0, b=0, t=0))\n",
    "\n",
    "# 建立 Figure 物件\n",
    "fig = go.Figure(data=[scatter_data1,scatter_data2], layout=layout)\n",
    "\n",
    "# 顯示互動式圖形\n",
    "iplot(fig)\n"
   ]
  },
  {
   "cell_type": "code",
   "execution_count": null,
   "id": "3e0a9a94",
   "metadata": {},
   "outputs": [],
   "source": [
    "\n",
    "from mpl_toolkits.mplot3d import Axes3D\n",
    "\n",
    "# 資料\n",
    "y1 = np.array(data[paraX[0]])\n",
    "x1 = np.array(data[paraX[1]])\n",
    "z1 = np.array(y)\n",
    "z2 = np.array(y_pred1)\n",
    "\n",
    "# 設定圖形\n",
    "fig = plt.figure()\n",
    "ax = fig.add_subplot(111, projection='3d')\n",
    "\n",
    "# 繪製 3D 散點圖\n",
    "ax.scatter(x1, y1, z1, c='orange', marker='o',label='experiment data')\n",
    "ax.scatter(x1, y1, z2, c='b', marker='o',label='predict point')\n",
    "\n",
    "# 設定座標軸標籤\n",
    "ax.set_xlabel(paraX[0])\n",
    "ax.set_ylabel('Cavity')#paraX[1])\n",
    "ax.set_zlabel(target)\n",
    "plt.legend(loc='upper left')\n",
    "\n",
    "# 顯示圖形\n",
    "plt.show()\n",
    "\n",
    "#匯出圖檔\n",
    "dt = datetime.now().strftime('%Y%m%d')\n",
    "tt = (target+'_3Dfit_pyimg_'+dt+'.jpg') #檔名\n",
    "pathfig = fpath+'\\\\'+tt\n",
    "        \n",
    "sfig = ax.get_figure()\n",
    "sfig.savefig(pathfig,  orientation=\"landscape\")\n",
    "sfig.clear()\n",
    "\n",
    "#plt.savefig('3D_fitting.png', orientation=\"landscape\")\n",
    "\n",
    "\n"
   ]
  },
  {
   "cell_type": "code",
   "execution_count": null,
   "id": "58df4a43",
   "metadata": {},
   "outputs": [],
   "source": [
    "title='SVR RSM result'\n",
    "fpath2=mkdir(title,nowdir)"
   ]
  },
  {
   "cell_type": "code",
   "execution_count": null,
   "id": "67d71ecc",
   "metadata": {},
   "outputs": [],
   "source": []
  },
  {
   "cell_type": "code",
   "execution_count": null,
   "id": "a8ee6e90",
   "metadata": {},
   "outputs": [],
   "source": [
    "# 繪製響應曲面\n",
    "plt.figure(figsize=(10, 8))\n",
    "plt.rcParams['font.size'] = 14\n",
    "plt.title(target+' '+f'RSM(kernel='+kernel+f',order={degree:.0f})')\n",
    "\n",
    "\n",
    "\n",
    "xlim=[20,40]\n",
    "ylim=[3500,6000]\n",
    "#xlim=[30,data['H2'].max()]\n",
    "#ylim=[data['腔體長'].min(),data['腔體長'].max()]\n",
    "x1 = np.linspace(xlim[0],xlim[1], 100)\n",
    "x2 = np.linspace(ylim[0],ylim[1], 100)\n",
    "X1, X2 = np.meshgrid(x1, x2)\n",
    "y_pred = model.predict(np.c_[X1.ravel(), X2.ravel()]).reshape(X1.shape)\n",
    "\n",
    "\n",
    "# 繪製響應曲面\n",
    "ax=plt.contourf(X1, X2,y_pred,[0,2,2.5,2.8,3,3.2,3.5,4,5,6,7],cmap='RdYlGn')           # 等高線面積圖\n",
    "ax=plt.contour(X1, X2,y_pred,[2,2.5,2.8,3,3.2,3.5,4,5,6,7],colors=['#000','#000','#000','blue','#000','#000','#000','#000','#000']) # 等高線圖\n",
    "cset=plt.contourf(X1, X2,y_pred,[0,2,2.5,2.8,3,3.2,3.5,4,5,6,7],cmap='RdYlGn')           # 等高線面積圖\n",
    "contourf=plt.contour(X1, X2,y_pred,[2,2.5,2.8,3,3.2,3.5,4,5,6,7],colors=['#000','#000','#000','blue','#000','#000','#000','#000','#000']) # 等高線圖\n",
    "#ax=plt.contourf(X1, X2,y_pred,cmap='RdYlGn')           # 等高線面積圖\n",
    "#ax=plt.contour(X1, X2,y_pred,[900],colors=['#000','#000','#000','blue','#000','#000','#000','#000','#000']) # 等高線圖\n",
    "#cset=plt.contourf(X1, X2,y_pred,cmap='RdYlGn')           # 等高線面積圖\n",
    "#contourf=plt.contour(X1, X2,y_pred,[900],colors=['#000','#000','#000','blue','#000','#000','#000','#000','#000']) # 等高線圖\n",
    "\n",
    "ax=plt.scatter(data[paraX[0]],data[paraX[1]],cmap='viridis',s=50,label='orig data') #預測的數據RdYlGn_r\n",
    "plt.xlim(xlim)\n",
    "plt.ylim(ylim)\n",
    "plt.xlabel('H2')\n",
    "plt.ylabel('Cavity')\n",
    "plt.legend(loc='upper left')\n",
    "\n",
    "plt.clabel(contourf,fontsize=12,colors='#000',fmt='%.1f')\n",
    "plt.colorbar(cset)\n",
    "plt.show()\n",
    "\n",
    "#匯出圖檔\n",
    "from datetime import datetime\n",
    "dt = datetime.now().strftime('%Y%m%d')\n",
    "tt = (target+'_SVR_'+dt+'.jpg') #檔名\n",
    "pathfig = fpath2+'\\\\'+tt\n",
    "sfig = ax.get_figure()\n",
    "sfig.savefig(pathfig,  orientation=\"landscape\")\n",
    "sfig.clear()"
   ]
  },
  {
   "cell_type": "markdown",
   "id": "99dacca3",
   "metadata": {},
   "source": [
    "# 將訓練出的決策邊界data抓出來"
   ]
  },
  {
   "cell_type": "code",
   "execution_count": null,
   "id": "cc89c084",
   "metadata": {},
   "outputs": [],
   "source": [
    "'''■■■■■■判斷某數值是否介於range中■■■■■■'''\n",
    "def is_in_range(x, start, end):\n",
    "    return any(start <= x <= end for x in [x])\n",
    "'''■■■■■■線性內插■■■■■■'''\n",
    "def interp(x,y,x_new,kind):\n",
    "    from scipy.interpolate import interp1d\n",
    "    f = interp1d(x, y,kind=kind,bounds_error=False) #kind可以改為polynomial\n",
    "    y_new = f(x_new)\n",
    "    return y_new.tolist()"
   ]
  },
  {
   "cell_type": "code",
   "execution_count": null,
   "id": "ac8291f3",
   "metadata": {},
   "outputs": [],
   "source": [
    "#將反應曲面的矩陣反轉\n",
    "XX_T = pd.DataFrame(X1).T\n",
    "YY_T = pd.DataFrame(X2).T\n",
    "Z_T=pd.DataFrame(y_pred).T\n",
    "#將反應曲面的矩陣正轉\n",
    "XX_matrix = pd.DataFrame(X1)\n",
    "YY_matrix = pd.DataFrame(X2)\n",
    "Z_matrix=pd.DataFrame(y_pred)\n",
    "#pd.set_option('display.max_rows', None)\n",
    "#Z_T"
   ]
  },
  {
   "cell_type": "code",
   "execution_count": null,
   "id": "d5334e34",
   "metadata": {},
   "outputs": [],
   "source": [
    "c2_list=[1,2,2.5,3,3.5,4] #想找尋的目標值\n",
    "\n",
    "for J in range(len(c2_list)):\n",
    "    c2 = c2_list[J]\n",
    "    locals()['df_'+str(c2)]=pd.DataFrame([],columns=paraX)\n",
    "    #直向線性內插\n",
    "    for I in range(Z_T.shape[0]): #欄位\n",
    "        for i in range(Z_T.shape[1]-1): #列數\n",
    "            inornot1=is_in_range(c2,Z_T[I][i],Z_T[I][i+1])  #判斷是否若在範圍內\n",
    "            inornot2=is_in_range(c2,Z_T[I][i+1],Z_T[I][i])  #判斷是否若在範圍內(曲線有可能斜率<0)\n",
    "            inornot=(inornot1 or inornot2)\n",
    "            if (inornot): #如果在線性範圍內就內插\n",
    "                x = [Z_T[I][i],Z_T[I][i+1]]\n",
    "                y = [XX_T[I][i],XX_T[I][i+1]]\n",
    "                x_new = c2\n",
    "                kind='linear'#線性內插\n",
    "                getyou_X = interp(x,y,x_new,kind)\n",
    "                x = [Z_T[I][i],Z_T[I][i+1]]\n",
    "                y = [YY_T[I][i],YY_T[I][i+1]]\n",
    "                x_new = c2\n",
    "                kind='linear'\n",
    "                getyou_Y = interp(x,y,x_new,kind)\n",
    "                locals()['df_'+str(c2)]=locals()['df_'+str(c2)].append({paraX[0]:getyou_X,paraX[1]:getyou_Y},ignore_index=True)\n",
    "    #橫向線性內插\n",
    "    for I in range(Z_matrix.shape[0]): #欄位\n",
    "        for i in range(Z_matrix.shape[1]-1): #列數\n",
    "            inornot=is_in_range(c2,Z_matrix[I][i],Z_matrix[I][i+1])  #判斷是否若在範圍內 \n",
    "            if (inornot): #如果在線性範圍內就內插\n",
    "                x = [Z_matrix[I][i],Z_matrix[I][i+1]]\n",
    "                y = [XX_matrix[I][i],XX_matrix[I][i+1]]\n",
    "                x_new = c2\n",
    "                kind='linear'#線性內插\n",
    "                getyou_X = interp(x,y,x_new,kind)\n",
    "                x = [Z_matrix[I][i],Z_matrix[I][i+1]]\n",
    "                y = [YY_matrix[I][i],YY_matrix[I][i+1]]\n",
    "                x_new = c2\n",
    "                kind='linear'\n",
    "                getyou_Y = interp(x,y,x_new,kind)\n",
    "                locals()['df_'+str(c2)]=locals()['df_'+str(c2)].append({paraX[0]:getyou_X,paraX[1]:getyou_Y},ignore_index=True)\n",
    "\n",
    "                \n",
    "                \n",
    "#locals()['df_'+str(c2)]"
   ]
  },
  {
   "cell_type": "code",
   "execution_count": null,
   "id": "65a24108",
   "metadata": {},
   "outputs": [],
   "source": [
    "'''■■■■■■■■■■決策邊界data(超平面)■■■■■■■■■■'''\n",
    "plt.figure(figsize=(8, 8))\n",
    "plt.rcParams['font.size'] = 14\n",
    "plt.title(target+' '+f'Response Surface(SVC)')\n",
    "\n",
    "for J in range(len(c2_list)):\n",
    "    c2 = c2_list[J]\n",
    "    ax = plt.scatter(locals()['df_'+str(c2)][paraX[0]],locals()['df_'+str(c2)][paraX[1]], s=5, alpha=0.8,label=c2)\n",
    "#plt.xlim([30,41.5])\n",
    "#plt.ylim([3000, 5300])\n",
    "\n",
    "#增加註解\n",
    "plt.text(23.5,6000, f'kernel='+kernel)\n",
    "plt.text(23.5,5850, f'C={C1:.0f}')\n",
    "plt.text(23.5,5700, f'degree={degree:.0f}')\n",
    "\n",
    "\n",
    "plt.legend()\n",
    "plt.grid(True)\n",
    "plt.show()\n",
    "\n",
    "#匯出圖檔\n",
    "dt = datetime.now().strftime('%Y%m%d')\n",
    "tt = (target+'_RSM Plot_'+dt+'.jpg') #檔名\n",
    "pathfig = fpath2+'\\\\'+tt\n",
    "sfig = ax.get_figure()\n",
    "sfig.savefig(pathfig,  orientation=\"landscape\")\n",
    "sfig.clear()"
   ]
  },
  {
   "cell_type": "code",
   "execution_count": null,
   "id": "ad30d75f",
   "metadata": {},
   "outputs": [],
   "source": [
    "'''■■■■■■■■■■匯出RSM excel■■■■■■■■■■'''\n",
    "import os\n",
    "#日期\n",
    "from datetime import datetime\n",
    "dt = datetime.now().strftime('%Y%m%d')\n",
    "#dt\n",
    "title3 = (target+'_RSM_pydata_'+dt+'.xlsx') #檔名\n",
    "\n",
    "\n",
    "path = os.path.join(fpath2, title3) # 設定路徑及檔名\n",
    "writer = pd.ExcelWriter(path, engine='openpyxl') # 指定引擎openpyxl\n",
    "\n",
    "for J in range(len(c2_list)):\n",
    "    c2 = c2_list[J]\n",
    "    dataname = locals()['df_'+str(c2)]\n",
    "    sn='RSM CF='+str(c2)\n",
    "    dataname.to_excel(writer,sheet_name = sn)\n",
    "    \n",
    "\n",
    "writer.save()"
   ]
  },
  {
   "cell_type": "code",
   "execution_count": null,
   "id": "18fc240e",
   "metadata": {},
   "outputs": [],
   "source": []
  },
  {
   "cell_type": "code",
   "execution_count": null,
   "id": "64bce525",
   "metadata": {},
   "outputs": [],
   "source": []
  },
  {
   "cell_type": "code",
   "execution_count": null,
   "id": "c1d74687",
   "metadata": {},
   "outputs": [],
   "source": []
  },
  {
   "cell_type": "code",
   "execution_count": null,
   "id": "1b9df88b",
   "metadata": {},
   "outputs": [],
   "source": []
  },
  {
   "cell_type": "code",
   "execution_count": null,
   "id": "ddc62bd0",
   "metadata": {},
   "outputs": [],
   "source": [
    "print('Calla.Lin:Enjoy your data!!!')\n",
    "os.system(\"pause\")"
   ]
  },
  {
   "cell_type": "code",
   "execution_count": null,
   "id": "813caa56",
   "metadata": {},
   "outputs": [],
   "source": []
  },
  {
   "cell_type": "code",
   "execution_count": null,
   "id": "d8312061",
   "metadata": {},
   "outputs": [],
   "source": []
  },
  {
   "cell_type": "code",
   "execution_count": null,
   "id": "545c8239",
   "metadata": {},
   "outputs": [],
   "source": []
  },
  {
   "cell_type": "code",
   "execution_count": null,
   "id": "bec5ce4f",
   "metadata": {},
   "outputs": [],
   "source": []
  },
  {
   "cell_type": "code",
   "execution_count": null,
   "id": "f13fe99f",
   "metadata": {},
   "outputs": [],
   "source": []
  },
  {
   "cell_type": "code",
   "execution_count": null,
   "id": "6ef23495",
   "metadata": {},
   "outputs": [],
   "source": []
  },
  {
   "cell_type": "code",
   "execution_count": null,
   "id": "62954860",
   "metadata": {},
   "outputs": [],
   "source": []
  },
  {
   "cell_type": "code",
   "execution_count": null,
   "id": "0fc00c8d",
   "metadata": {},
   "outputs": [],
   "source": []
  },
  {
   "cell_type": "code",
   "execution_count": null,
   "id": "1b858c2a",
   "metadata": {},
   "outputs": [],
   "source": []
  },
  {
   "cell_type": "code",
   "execution_count": null,
   "id": "4d08260d",
   "metadata": {},
   "outputs": [],
   "source": []
  },
  {
   "cell_type": "code",
   "execution_count": null,
   "id": "9d4257a7",
   "metadata": {},
   "outputs": [],
   "source": []
  },
  {
   "cell_type": "code",
   "execution_count": null,
   "id": "d5629caa",
   "metadata": {},
   "outputs": [],
   "source": []
  },
  {
   "cell_type": "code",
   "execution_count": null,
   "id": "c14d50e2",
   "metadata": {},
   "outputs": [],
   "source": []
  },
  {
   "cell_type": "code",
   "execution_count": null,
   "id": "524c70ed",
   "metadata": {},
   "outputs": [],
   "source": []
  },
  {
   "cell_type": "code",
   "execution_count": null,
   "id": "7ca92761",
   "metadata": {},
   "outputs": [],
   "source": []
  },
  {
   "cell_type": "code",
   "execution_count": null,
   "id": "1555ab34",
   "metadata": {},
   "outputs": [],
   "source": []
  },
  {
   "cell_type": "code",
   "execution_count": null,
   "id": "1d58cd3b",
   "metadata": {},
   "outputs": [],
   "source": []
  },
  {
   "cell_type": "code",
   "execution_count": null,
   "id": "94e90fc4",
   "metadata": {},
   "outputs": [],
   "source": []
  },
  {
   "cell_type": "code",
   "execution_count": null,
   "id": "52ea46c0",
   "metadata": {},
   "outputs": [],
   "source": []
  },
  {
   "cell_type": "code",
   "execution_count": null,
   "id": "c49b23c4",
   "metadata": {},
   "outputs": [],
   "source": []
  },
  {
   "cell_type": "code",
   "execution_count": null,
   "id": "80333d58",
   "metadata": {},
   "outputs": [],
   "source": []
  },
  {
   "cell_type": "code",
   "execution_count": null,
   "id": "c61230a1",
   "metadata": {},
   "outputs": [],
   "source": []
  },
  {
   "cell_type": "code",
   "execution_count": null,
   "id": "528ae2a7",
   "metadata": {},
   "outputs": [],
   "source": []
  },
  {
   "cell_type": "code",
   "execution_count": null,
   "id": "eb0405c8",
   "metadata": {},
   "outputs": [],
   "source": []
  },
  {
   "cell_type": "code",
   "execution_count": null,
   "id": "f8fc5b2d",
   "metadata": {},
   "outputs": [],
   "source": []
  },
  {
   "cell_type": "code",
   "execution_count": null,
   "id": "ccb1db60",
   "metadata": {},
   "outputs": [],
   "source": []
  }
 ],
 "metadata": {
  "kernelspec": {
   "display_name": "Python 3 (ipykernel)",
   "language": "python",
   "name": "python3"
  },
  "language_info": {
   "codemirror_mode": {
    "name": "ipython",
    "version": 3
   },
   "file_extension": ".py",
   "mimetype": "text/x-python",
   "name": "python",
   "nbconvert_exporter": "python",
   "pygments_lexer": "ipython3",
   "version": "3.9.7"
  }
 },
 "nbformat": 4,
 "nbformat_minor": 5
}
